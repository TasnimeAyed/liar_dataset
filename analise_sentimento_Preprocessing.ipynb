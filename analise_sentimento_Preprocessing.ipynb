{
  "nbformat": 4,
  "nbformat_minor": 0,
  "metadata": {
    "colab": {
      "name": "Copy of Copy of analise_sentimento_ok.ipynb",
      "provenance": [],
      "collapsed_sections": [],
      "include_colab_link": true
    },
    "kernelspec": {
      "name": "python3",
      "display_name": "Python 3"
    }
  },
  "cells": [
    {
      "cell_type": "markdown",
      "metadata": {
        "id": "view-in-github",
        "colab_type": "text"
      },
      "source": [
        "<a href=\"https://colab.research.google.com/github/TasnimeAyed/liar_dataset/blob/master/analise_sentimento_Preprocessing.ipynb\" target=\"_parent\"><img src=\"https://colab.research.google.com/assets/colab-badge.svg\" alt=\"Open In Colab\"/></a>"
      ]
    },
    {
      "cell_type": "markdown",
      "metadata": {
        "id": "hEHTOU0DxvO4",
        "colab_type": "text"
      },
      "source": [
        "#install language detection (english)"
      ]
    },
    {
      "cell_type": "code",
      "metadata": {
        "id": "6Ea_3O-qaj32",
        "colab_type": "code",
        "outputId": "df1b503f-3029-4b73-d86f-56a664f4f862",
        "colab": {
          "base_uri": "https://localhost:8080/",
          "height": 51
        }
      },
      "source": [
        "!pip install langdetect"
      ],
      "execution_count": 56,
      "outputs": [
        {
          "output_type": "stream",
          "text": [
            "Requirement already satisfied: langdetect in /usr/local/lib/python3.6/dist-packages (1.0.8)\n",
            "Requirement already satisfied: six in /usr/local/lib/python3.6/dist-packages (from langdetect) (1.12.0)\n"
          ],
          "name": "stdout"
        }
      ]
    },
    {
      "cell_type": "markdown",
      "metadata": {
        "id": "Hg35nwAvxiez",
        "colab_type": "text"
      },
      "source": [
        "# Import Libraries"
      ]
    },
    {
      "cell_type": "markdown",
      "metadata": {
        "id": "fJHBHq1gxmV0",
        "colab_type": "text"
      },
      "source": [
        ""
      ]
    },
    {
      "cell_type": "code",
      "metadata": {
        "id": "SlBb7LodTqP5",
        "colab_type": "code",
        "outputId": "d8f1242e-2e7c-4fe9-defb-18cfa1d67ad7",
        "colab": {
          "base_uri": "https://localhost:8080/",
          "height": 119
        }
      },
      "source": [
        "import pandas as pd\n",
        "import numpy as np\n",
        "import warnings\n",
        "warnings.filterwarnings('ignore')\n",
        "import nltk\n",
        "from nltk.sentiment.vader import SentimentIntensityAnalyzer\n",
        "nltk.download('vader_lexicon')\n",
        "import string\n",
        "from nltk import PorterStemmer\n",
        "import re\n",
        "nltk.download('stopwords')\n",
        "nltk.download('wordnet')\n",
        "stopwords = nltk.corpus.stopwords.words('english')\n",
        "from gensim import corpora\n",
        "import gensim\n",
        "from sklearn.metrics import confusion_matrix, f1_score, classification_report\n",
        "from sklearn.naive_bayes import MultinomialNB\n",
        "from sklearn.pipeline import Pipeline\n",
        "from sklearn.feature_extraction.text import CountVectorizer\n",
        "\n"
      ],
      "execution_count": 57,
      "outputs": [
        {
          "output_type": "stream",
          "text": [
            "[nltk_data] Downloading package vader_lexicon to /root/nltk_data...\n",
            "[nltk_data]   Package vader_lexicon is already up-to-date!\n",
            "[nltk_data] Downloading package stopwords to /root/nltk_data...\n",
            "[nltk_data]   Package stopwords is already up-to-date!\n",
            "[nltk_data] Downloading package wordnet to /root/nltk_data...\n",
            "[nltk_data]   Package wordnet is already up-to-date!\n"
          ],
          "name": "stdout"
        }
      ]
    },
    {
      "cell_type": "markdown",
      "metadata": {
        "id": "1m4-gX7-yHLo",
        "colab_type": "text"
      },
      "source": [
        "# Get the Data"
      ]
    },
    {
      "cell_type": "code",
      "metadata": {
        "id": "ch-a61ODUTE6",
        "colab_type": "code",
        "colab": {}
      },
      "source": [
        "uri_train  = 'https://raw.githubusercontent.com/thiagorainmaker77/liar_dataset/master/train.tsv'\n",
        "uri_valid  = 'https://raw.githubusercontent.com/thiagorainmaker77/liar_dataset/master/valid.tsv'\n",
        "uri_test  = 'https://raw.githubusercontent.com/thiagorainmaker77/liar_dataset/master/test.tsv'"
      ],
      "execution_count": 0,
      "outputs": []
    },
    {
      "cell_type": "code",
      "metadata": {
        "id": "VxgCdGKbyQO_",
        "colab_type": "code",
        "colab": {
          "base_uri": "https://localhost:8080/",
          "height": 374
        },
        "outputId": "298930ad-3602-45c5-b282-403f4b3a452d"
      },
      "source": [
        "#the train dataset\n",
        "\n",
        "df_train = pd.read_table(uri_train,\n",
        "                             names = ['id',\t'label'\t,'statement',\t'subject',\t'speaker', \t'job', \t'state',\t'party',\t'barely_true_c',\t\n",
        "                                        'false_c',\t'half_true_c',\t'mostly_true_c',\t'pants_on_fire_c',\t'venue'])\n",
        "df_train.head(2)\n",
        "df_train.describe()\n",
        "df_train.info() "
      ],
      "execution_count": 59,
      "outputs": [
        {
          "output_type": "stream",
          "text": [
            "<class 'pandas.core.frame.DataFrame'>\n",
            "RangeIndex: 10240 entries, 0 to 10239\n",
            "Data columns (total 14 columns):\n",
            " #   Column           Non-Null Count  Dtype  \n",
            "---  ------           --------------  -----  \n",
            " 0   id               10240 non-null  object \n",
            " 1   label            10240 non-null  object \n",
            " 2   statement        10240 non-null  object \n",
            " 3   subject          10238 non-null  object \n",
            " 4   speaker          10238 non-null  object \n",
            " 5   job              7343 non-null   object \n",
            " 6   state            8032 non-null   object \n",
            " 7   party            10238 non-null  object \n",
            " 8   barely_true_c    10238 non-null  float64\n",
            " 9   false_c          10238 non-null  float64\n",
            " 10  half_true_c      10238 non-null  float64\n",
            " 11  mostly_true_c    10238 non-null  float64\n",
            " 12  pants_on_fire_c  10238 non-null  float64\n",
            " 13  venue            10138 non-null  object \n",
            "dtypes: float64(5), object(9)\n",
            "memory usage: 1.1+ MB\n"
          ],
          "name": "stdout"
        }
      ]
    },
    {
      "cell_type": "code",
      "metadata": {
        "id": "te8zlIJgyQfz",
        "colab_type": "code",
        "colab": {
          "base_uri": "https://localhost:8080/",
          "height": 374
        },
        "outputId": "19e16de4-17cd-408b-fa37-dbdcf6cff2e2"
      },
      "source": [
        "#the valid dataset\n",
        "\n",
        "\n",
        "df_valid = pd.read_table(uri_valid,\n",
        "                             names =['id',\t'label'\t,'statement',\t'subject',\t'speaker', \t'job', \t'state',\t'party',\t'barely_true_c',\n",
        "                                       'false_c',\t'half_true_c',\t'mostly_true_c',\t'pants_on_fire_c',\t'venue'])\n",
        "\n",
        "df_valid.head(2)\n",
        "df_valid.describe()\n",
        "df_valid.info() "
      ],
      "execution_count": 60,
      "outputs": [
        {
          "output_type": "stream",
          "text": [
            "<class 'pandas.core.frame.DataFrame'>\n",
            "RangeIndex: 1284 entries, 0 to 1283\n",
            "Data columns (total 14 columns):\n",
            " #   Column           Non-Null Count  Dtype \n",
            "---  ------           --------------  ----- \n",
            " 0   id               1284 non-null   object\n",
            " 1   label            1284 non-null   object\n",
            " 2   statement        1284 non-null   object\n",
            " 3   subject          1284 non-null   object\n",
            " 4   speaker          1284 non-null   object\n",
            " 5   job              939 non-null    object\n",
            " 6   state            1005 non-null   object\n",
            " 7   party            1284 non-null   object\n",
            " 8   barely_true_c    1284 non-null   int64 \n",
            " 9   false_c          1284 non-null   int64 \n",
            " 10  half_true_c      1284 non-null   int64 \n",
            " 11  mostly_true_c    1284 non-null   int64 \n",
            " 12  pants_on_fire_c  1284 non-null   int64 \n",
            " 13  venue            1272 non-null   object\n",
            "dtypes: int64(5), object(9)\n",
            "memory usage: 140.6+ KB\n"
          ],
          "name": "stdout"
        }
      ]
    },
    {
      "cell_type": "code",
      "metadata": {
        "id": "F4zfKTlryQrQ",
        "colab_type": "code",
        "colab": {
          "base_uri": "https://localhost:8080/",
          "height": 374
        },
        "outputId": "4cfe8e0c-1382-4f16-ebbd-51f52885fe84"
      },
      "source": [
        "#the test dataset\n",
        "\n",
        "\n",
        "df_test = pd.read_csv(uri_test, sep='\\t', \n",
        "                            names =['id',\t'label'\t,'statement',\t'subject',\t'speaker', \t'job', \t'state',\t'party',\t'barely_true_c',\n",
        "                                      'false_c',\t'half_true_c',\t'mostly_true_c',\t'pants_on_fire_c',\t'venue']) \n",
        "df_test.head(2)\n",
        "df_test.describe()\n",
        "df_test.info()\n"
      ],
      "execution_count": 64,
      "outputs": [
        {
          "output_type": "stream",
          "text": [
            "<class 'pandas.core.frame.DataFrame'>\n",
            "RangeIndex: 1267 entries, 0 to 1266\n",
            "Data columns (total 14 columns):\n",
            " #   Column           Non-Null Count  Dtype \n",
            "---  ------           --------------  ----- \n",
            " 0   id               1267 non-null   object\n",
            " 1   label            1267 non-null   object\n",
            " 2   statement        1267 non-null   object\n",
            " 3   subject          1267 non-null   object\n",
            " 4   speaker          1267 non-null   object\n",
            " 5   job              942 non-null    object\n",
            " 6   state            1005 non-null   object\n",
            " 7   party            1267 non-null   object\n",
            " 8   barely_true_c    1267 non-null   int64 \n",
            " 9   false_c          1267 non-null   int64 \n",
            " 10  half_true_c      1267 non-null   int64 \n",
            " 11  mostly_true_c    1267 non-null   int64 \n",
            " 12  pants_on_fire_c  1267 non-null   int64 \n",
            " 13  venue            1250 non-null   object\n",
            "dtypes: int64(5), object(9)\n",
            "memory usage: 138.7+ KB\n"
          ],
          "name": "stdout"
        }
      ]
    },
    {
      "cell_type": "code",
      "metadata": {
        "id": "MyGnTPJtyQ6M",
        "colab_type": "code",
        "colab": {
          "base_uri": "https://localhost:8080/",
          "height": 374
        },
        "outputId": "1131781f-038b-4761-b68b-a1c68da577ee"
      },
      "source": [
        "df = pd.concat([df_train, df_valid])\n",
        "\n",
        "df.info()"
      ],
      "execution_count": 65,
      "outputs": [
        {
          "output_type": "stream",
          "text": [
            "<class 'pandas.core.frame.DataFrame'>\n",
            "Int64Index: 11524 entries, 0 to 1283\n",
            "Data columns (total 14 columns):\n",
            " #   Column           Non-Null Count  Dtype  \n",
            "---  ------           --------------  -----  \n",
            " 0   id               11524 non-null  object \n",
            " 1   label            11524 non-null  object \n",
            " 2   statement        11524 non-null  object \n",
            " 3   subject          11522 non-null  object \n",
            " 4   speaker          11522 non-null  object \n",
            " 5   job              8282 non-null   object \n",
            " 6   state            9037 non-null   object \n",
            " 7   party            11522 non-null  object \n",
            " 8   barely_true_c    11522 non-null  float64\n",
            " 9   false_c          11522 non-null  float64\n",
            " 10  half_true_c      11522 non-null  float64\n",
            " 11  mostly_true_c    11522 non-null  float64\n",
            " 12  pants_on_fire_c  11522 non-null  float64\n",
            " 13  venue            11410 non-null  object \n",
            "dtypes: float64(5), object(9)\n",
            "memory usage: 1.3+ MB\n"
          ],
          "name": "stdout"
        }
      ]
    },
    {
      "cell_type": "code",
      "metadata": {
        "id": "m3268GrRUvtA",
        "colab_type": "code",
        "colab": {}
      },
      "source": [
        "liar_list = [df,df_test]\n",
        "#liar_list.head(2)\n",
        "\n"
      ],
      "execution_count": 0,
      "outputs": []
    }
  ]
}